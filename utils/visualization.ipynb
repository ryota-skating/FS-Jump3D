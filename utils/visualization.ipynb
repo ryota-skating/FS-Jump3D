{
 "cells": [
  {
   "cell_type": "markdown",
   "metadata": {},
   "source": [
    "# Script for visualizing a 3D pose stored in npy file"
   ]
  },
  {
   "cell_type": "code",
   "execution_count": null,
   "metadata": {
    "vscode": {
     "languageId": "powershell"
    }
   },
   "outputs": [],
   "source": [
    "!pip install plotly\n",
    "!pip install nbformat"
   ]
  },
  {
   "cell_type": "code",
   "execution_count": 114,
   "metadata": {},
   "outputs": [],
   "source": [
    "import os\n",
    "import numpy as np\n",
    "import plotly.graph_objects as go\n",
    "\n",
    "H36M_CONNECTIONS = [\n",
    "    (0, 1), (0, 4), (0, 7), (1, 2), (2, 3), (4, 5), (5, 6),\n",
    "    (7, 8), (8, 9), (8, 11), (8, 14), (9, 10), (11, 12),\n",
    "    (12, 13), (14, 15), (15, 16)\n",
    "    ]\n",
    "FSJUMP3D_CONNECTIONS = [\n",
    "    (0, 3), (0, 45), (1, 4), (1, 22), (2, 5), (2, 23), (3, 6), (3, 24),\n",
    "    (4, 6), (4, 7), (4, 8), (4, 83), (5, 6), (5, 7), (5, 83), (6, 8),\n",
    "    (7, 8), (8, 9), (9, 10), (9, 11), (9, 14), (10, 12), (11, 13),\n",
    "    (12, 13), (14, 15), (15, 16), (15, 17), (15, 18), (15, 19), \n",
    "    (16, 20), (17, 21), (22, 23), (22, 24), (22, 25), (23, 24),\n",
    "    (23, 25), (24, 26), (25, 26), (26, 27), (27, 28), (27, 29),\n",
    "    (27, 32), (28, 30), (29, 31), (30, 31), (32, 33), (33, 34),\n",
    "    (33, 35), (33, 36), (33, 37), (34, 38), (35, 39), (40, 42),\n",
    "    (40, 43), (41, 42), (41, 43), (44, 55), (44, 70), (45, 47),\n",
    "    (45, 54), (45, 69), (46, 56), (46, 71), (47, 52), (48, 50),\n",
    "    (48, 51), (49, 50), (49, 51), (53, 55), (53, 56), (53, 57),\n",
    "    (53, 58), (54, 55), (54, 56), (56, 71), (58, 60), (58, 61),\n",
    "    (58, 62), (59, 60), (59, 61), (62, 63), (62, 64), (62, 65),\n",
    "    (63, 66), (64, 67), (68, 70), (68, 71), (68, 72), (69, 70),\n",
    "    (69, 71), (72, 73), (73, 75), (73, 76), (73, 77), (74, 75),\n",
    "    (74, 76), (77, 78), (77, 79), (77, 80), (78, 81), (79, 82)\n",
    "    ]\n"
   ]
  },
  {
   "cell_type": "code",
   "execution_count": 115,
   "metadata": {},
   "outputs": [],
   "source": [
    "def show_3D_pose_plotly(pose3d: np.ndarray, connections: list):\n",
    "    '''Show 3D pose using Plotly.'''\n",
    "\n",
    "    # Scatter points and keypoint indices\n",
    "    scatter_points = go.Scatter3d(\n",
    "        x=pose3d[:, 0],\n",
    "        y=pose3d[:, 1],\n",
    "        z=pose3d[:, 2],\n",
    "        mode='markers+text',\n",
    "        marker=dict(size=1.5, color='black'),\n",
    "        text=[str(i) for i in range(pose3d.shape[0])],\n",
    "        textposition=\"top center\"\n",
    "    )\n",
    "\n",
    "    # Create lines\n",
    "    lines = []\n",
    "    for c1, c2 in connections:\n",
    "        x, y, z = [np.array([pose3d[c1, j], pose3d[c2, j]]) for j in [0, 1, 2]]\n",
    "        lines.append(go.Scatter3d(\n",
    "            x=x, y=y, z=z,\n",
    "            mode='lines',\n",
    "            line=dict(width=4, color='red'),\n",
    "            showlegend=False\n",
    "        ))\n",
    "\n",
    "    # Combine scatter points and lines\n",
    "    fig = go.Figure(data=[scatter_points] + lines)\n",
    "\n",
    "    # Update layout for better visualization\n",
    "    fig.update_layout(\n",
    "        scene=dict(\n",
    "            xaxis=dict(title='X', range=[pose3d[0, 0] - 1000, pose3d[0, 0] + 1000]),\n",
    "            yaxis=dict(title='Y', range=[pose3d[0, 1] - 1000, pose3d[0, 1] + 1000]),\n",
    "            zaxis=dict(title='Z', range=[pose3d[0, 2] - 1000, pose3d[0, 2] + 1000]),\n",
    "            xaxis_visible=False, yaxis_visible=False, zaxis_visible=False\n",
    "        ),\n",
    "        scene_aspectmode='cube',\n",
    "        margin=dict(r=10, l=10, b=10, t=10),\n",
    "        width=800, height=800\n",
    "    )\n",
    "\n",
    "    fig.show()"
   ]
  },
  {
   "cell_type": "code",
   "execution_count": null,
   "metadata": {},
   "outputs": [],
   "source": [
    "# Load 3D pose data\n",
    "file_path = 'YOUR_PATH_TO_3D_POSE_NPY_FILE'  # Set your path to 3D pose file.\n",
    "pose3d = np.load(file_path)\n",
    "\n",
    "frame_idx = 0  # Set the frame index to visualize.\n",
    "connections = FSJUMP3D_CONNECTIONS  # Set keypoint connections rig.\n",
    "\n",
    "# Visualize 3D pose\n",
    "show_3D_pose_plotly(pose3d[frame_idx], connections)"
   ]
  }
 ],
 "metadata": {
  "kernelspec": {
   "display_name": "3.8.10",
   "language": "python",
   "name": "python3"
  },
  "language_info": {
   "codemirror_mode": {
    "name": "ipython",
    "version": 3
   },
   "file_extension": ".py",
   "mimetype": "text/x-python",
   "name": "python",
   "nbconvert_exporter": "python",
   "pygments_lexer": "ipython3",
   "version": "3.8.10"
  }
 },
 "nbformat": 4,
 "nbformat_minor": 2
}
